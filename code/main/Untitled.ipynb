{
 "cells": [
  {
   "cell_type": "code",
   "execution_count": 3,
   "metadata": {},
   "outputs": [
    {
     "name": "stdout",
     "output_type": "stream",
     "text": [
      "\"Kagawa-Ya Udon Noodle\n",
      "Co.\n",
      "1455 Market Street,\n",
      "\n",
      "San Francisco, CA\n",
      "Mar 5, 2018\n",
      "12:20 PM\n",
      "Aziza\n",
      "94103\n",
      "www.kagawayaudon.com\n",
      "@KagawayaUdon\n",
      "Authorization 00876C\n",
      "Receipt ICx2\n",
      "Visa 9046\n",
      "CHASE VISA\n",
      "AID A0 00 00 00 03 10 10\n",
      "FOR HERE\n",
      "Kitsune Udon\n",
      "Spam Musubi\n",
      "Fishcake Tempura\n",
      "BAG CHARGE\n",
      "Discount\n",
      "$9.50\n",
      "$3.00\n",
      "$1.50\n",
      "$0.10\n",
      "$1.50\n",
      "$12.60\n",
      "$1.06\n",
      "Subtotal\n",
      "Sales Tax\n",
      "Total\n",
      "Visa 9046 (Chip)\n",
      "Christopher Dong\n",
      "$13.66\n",
      "$13.66\n",
      "\"\n",
      "\"Kagawa-Ya\"\n",
      "\"Udon\"\n",
      "\"Noodle\"\n",
      "\"Co.\"\n",
      "\"1455\"\n",
      "\"Market\"\n",
      "\"Street,\"\n",
      "\"\"\n",
      "\"San\"\n",
      "\"Francisco,\"\n",
      "\"CA\"\n",
      "\"Mar\"\n",
      "\"5,\"\n",
      "\"2018\"\n",
      "\"12:20\"\n",
      "\"PM\"\n",
      "\"Aziza\"\n",
      "\"94103\"\n",
      "\"www.kagawayaudon.com\"\n",
      "\"@KagawayaUdon\"\n",
      "\"Authorization\"\n",
      "\"00876C\"\n",
      "\"Receipt\"\n",
      "\"ICx2\"\n",
      "\"Visa\"\n",
      "\"9046\"\n",
      "\"CHASE\"\n",
      "\"VISA\"\n",
      "\"AID\"\n",
      "\"A0\"\n",
      "\"00\"\n",
      "\"00\"\n",
      "\"00\"\n",
      "\"03\"\n",
      "\"10\"\n",
      "\"10\"\n",
      "\"FOR\"\n",
      "\"HERE\"\n",
      "\"Kitsune\"\n",
      "\"Udon\"\n",
      "\"Spam\"\n",
      "\"Musubi\"\n",
      "\"Fishcake\"\n",
      "\"Tempura\"\n",
      "\"BAG\"\n",
      "\"CHARGE\"\n",
      "\"Discount\"\n",
      "\"$9.50\"\n",
      "\"$3.00\"\n",
      "\"$1.50\"\n",
      "\"$0.10\"\n",
      "\"$1.50\"\n",
      "\"$12.60\"\n",
      "\"$1.06\"\n",
      "\"Subtotal\"\n",
      "\"Sales\"\n",
      "\"Tax\"\n",
      "\"Total\"\n",
      "\"Visa\"\n",
      "\"9046\"\n",
      "\"(Chip)\"\n",
      "\"Christopher\"\n",
      "\"Dong\"\n",
      "\"$13.66\"\n",
      "\"$13.66\"\n",
      "\n"
     ]
    }
   ],
   "source": [
    "print(text)"
   ]
  },
  {
   "cell_type": "code",
   "execution_count": 4,
   "metadata": {},
   "outputs": [
    {
     "name": "stdout",
     "output_type": "stream",
     "text": [
      "['\"Kagawa-Ya Udon Noodle', 'Co.', '1455 Market Street,', '', 'San Francisco, CA', 'Mar 5, 2018', '12:20 PM', 'Aziza', '94103', 'www.kagawayaudon.com', '@KagawayaUdon', 'Authorization 00876C', 'Receipt ICx2', 'Visa 9046', 'CHASE VISA', 'AID A0 00 00 00 03 10 10', 'FOR HERE', 'Kitsune Udon', 'Spam Musubi', 'Fishcake Tempura', 'BAG CHARGE', 'Discount', '$9.50', '$3.00', '$1.50', '$0.10', '$1.50', '$12.60', '$1.06', 'Subtotal', 'Sales Tax', 'Total', 'Visa 9046 (Chip)', 'Christopher Dong', '$13.66', '$13.66', '\"', '\"Kagawa-Ya\"', '\"Udon\"', '\"Noodle\"', '\"Co.\"', '\"1455\"', '\"Market\"', '\"Street,\"', '\"\"', '\"San\"', '\"Francisco,\"', '\"CA\"', '\"Mar\"', '\"5,\"', '\"2018\"', '\"12:20\"', '\"PM\"', '\"Aziza\"', '\"94103\"', '\"www.kagawayaudon.com\"', '\"@KagawayaUdon\"', '\"Authorization\"', '\"00876C\"', '\"Receipt\"', '\"ICx2\"', '\"Visa\"', '\"9046\"', '\"CHASE\"', '\"VISA\"', '\"AID\"', '\"A0\"', '\"00\"', '\"00\"', '\"00\"', '\"03\"', '\"10\"', '\"10\"', '\"FOR\"', '\"HERE\"', '\"Kitsune\"', '\"Udon\"', '\"Spam\"', '\"Musubi\"', '\"Fishcake\"', '\"Tempura\"', '\"BAG\"', '\"CHARGE\"', '\"Discount\"', '\"$9.50\"', '\"$3.00\"', '\"$1.50\"', '\"$0.10\"', '\"$1.50\"', '\"$12.60\"', '\"$1.06\"', '\"Subtotal\"', '\"Sales\"', '\"Tax\"', '\"Total\"', '\"Visa\"', '\"9046\"', '\"(Chip)\"', '\"Christopher\"', '\"Dong\"', '\"$13.66\"', '\"$13.66\"', '']\n"
     ]
    },
    {
     "data": {
      "text/plain": [
       "{}"
      ]
     },
     "execution_count": 4,
     "metadata": {},
     "output_type": "execute_result"
    }
   ],
   "source": [
    "with(open('udon.txt')) as f:\n",
    "    text = f.read()\n",
    "\n",
    "import re\n",
    "\n",
    "\n",
    "def simple_process(text):\n",
    "    text_list = text.split('\\n')\n",
    "    print(text_list)\n",
    "    pattern = r'^\\d+\\s[\\d|\\D]+'\n",
    "    result = {}\n",
    "    text_list = text_list[4:]\n",
    "    for index, item in enumerate(text_list):\n",
    "        if re.findall(pattern, str(item)):\n",
    "            result[item] = index\n",
    "    num_items = len(result.keys())\n",
    "    for key in result.keys():\n",
    "        result[key] = \"$\" + str(text_list[(result[key] + num_items)])\n",
    "    return result\n",
    "simple_process(text)\n"
   ]
  }
 ],
 "metadata": {
  "kernelspec": {
   "display_name": "Python 2",
   "language": "python",
   "name": "python2"
  },
  "language_info": {
   "codemirror_mode": {
    "name": "ipython",
    "version": 2
   },
   "file_extension": ".py",
   "mimetype": "text/x-python",
   "name": "python",
   "nbconvert_exporter": "python",
   "pygments_lexer": "ipython2",
   "version": "2.7.14"
  }
 },
 "nbformat": 4,
 "nbformat_minor": 2
}
