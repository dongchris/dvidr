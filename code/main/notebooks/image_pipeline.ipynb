{
 "cells": [
  {
   "cell_type": "code",
   "execution_count": 42,
   "metadata": {},
   "outputs": [],
   "source": [
    "import io\n",
    "import numpy as np\n",
    "# Imports the Google Cloud client library\n",
    "from google.cloud import vision\n",
    "from google.cloud.vision import types\n",
    "import sys"
   ]
  },
  {
   "cell_type": "code",
   "execution_count": 54,
   "metadata": {},
   "outputs": [],
   "source": [
    "def detect_text(uri):\n",
    "    \"\"\"Detects text in the file located in Google Cloud Storage or on the Web.\n",
    "    \"\"\"\n",
    "    client = vision.ImageAnnotatorClient()\n",
    "    image = types.Image()\n",
    "    image.source.image_uri = uri\n",
    "\n",
    "    response = client.text_detection(image=image)\n",
    "    texts = response.text_annotations\n",
    "    \n",
    "    \n",
    "    orig_stdout = sys.stdout\n",
    "    f = open('out.txt','w')\n",
    "    sys.stdout = f\n",
    "    \n",
    "    print('Texts:')\n",
    "\n",
    "    for text in texts:\n",
    "        print('\\n\"{}\"'.format(text.description))\n",
    "\n",
    "        vertices = (['({},{})'.format(vertex.x, vertex.y)\n",
    "                    for vertex in text.bounding_poly.vertices])\n",
    "\n",
    "        print('bounds: {}'.format(','.join(vertices)))\n",
    "    \n",
    "    sys.stdout = orig_stdout\n",
    "    \n",
    "    return\n",
    "\n",
    "\n"
   ]
  },
  {
   "cell_type": "code",
   "execution_count": 10,
   "metadata": {
    "scrolled": true
   },
   "outputs": [],
   "source": [
    "import boto\n",
    "from boto.s3.key import Key\n",
    "\n",
    "def readImagefromS3(imageFile):\n",
    "    \"\"\"\n",
    "        This function will be using the pem file for AWS. \n",
    "        It will access a public S3 bucket called dvidr with\n",
    "        the specified image file. The output is a url link\n",
    "        for the image that will be passed onto the Google\n",
    "        Cloud Vision API for processing.\n",
    "        \n",
    "    \"\"\"\n",
    "    with open('../../../dvidr.pem') as f:\n",
    "        keys = f.read().split(',')\n",
    "\n",
    "    s3 = boto.connect_s3(\n",
    "        aws_access_key_id=keys[0],\n",
    "        aws_secret_access_key=keys[1]\n",
    "    )\n",
    "    bucket = s3.get_bucket(\"dvidr\", validate=False)\n",
    "\n",
    "    k1 = Key(bucket)\n",
    "    k1.key = imageFile\n",
    "\n",
    "    url_name = k1.generate_url(259200)\n",
    "    \n",
    "    return url_name\n",
    "\n",
    "filepath = (readImagefromS3(\"85c.jpg\"))"
   ]
  },
  {
   "cell_type": "code",
   "execution_count": 55,
   "metadata": {
    "scrolled": false
   },
   "outputs": [],
   "source": [
    "# file_name = f'{path}receipt.jpg'\n",
    "texts = detect_text(filepath)"
   ]
  },
  {
   "cell_type": "code",
   "execution_count": 57,
   "metadata": {},
   "outputs": [],
   "source": [
    "texts"
   ]
  },
  {
   "cell_type": "code",
   "execution_count": 56,
   "metadata": {},
   "outputs": [],
   "source": [
    "texts"
   ]
  },
  {
   "cell_type": "code",
   "execution_count": 41,
   "metadata": {},
   "outputs": [
    {
     "data": {
      "text/plain": [
       "{'1 85C Coffee Bread': '$1.95',\n",
       " '1 Brioche': '$2.50',\n",
       " '1 Mango Bread': '$1.85',\n",
       " '1 Milk Butter Puff': '$SUBTOTAL',\n",
       " '1 Milk Pudding': '$3.05',\n",
       " '85 C Bakery Cafe': '$To Go'}"
      ]
     },
     "execution_count": 41,
     "metadata": {},
     "output_type": "execute_result"
    }
   ],
   "source": [
    "simple_process(texts)"
   ]
  },
  {
   "cell_type": "code",
   "execution_count": 25,
   "metadata": {
    "scrolled": true
   },
   "outputs": [],
   "source": [
    "import re\n",
    "\n",
    "def simple_process(text):\n",
    "    text_list = text.split('\\n')\n",
    "\n",
    "    pattern = r'^\\d+\\s[\\d|\\D]+'\n",
    "    result = {}\n",
    "    for index, item in enumerate(text_list):\n",
    "        if re.findall(pattern, str(item)):\n",
    "            result[item] = index\n",
    "    num_items = len(result.keys())\n",
    "    for key in result.keys():\n",
    "        result[key] = \"$\" + str(text_list[(result[key] + num_items)])\n",
    "    return result\n",
    "\n"
   ]
  }
 ],
 "metadata": {
  "kernelspec": {
   "display_name": "Python 3",
   "language": "python",
   "name": "python3"
  },
  "language_info": {
   "codemirror_mode": {
    "name": "ipython",
    "version": 3
   },
   "file_extension": ".py",
   "mimetype": "text/x-python",
   "name": "python",
   "nbconvert_exporter": "python",
   "pygments_lexer": "ipython3",
   "version": "3.6.4"
  }
 },
 "nbformat": 4,
 "nbformat_minor": 2
}
